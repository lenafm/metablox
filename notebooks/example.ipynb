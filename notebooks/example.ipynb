{
 "cells": [
  {
   "cell_type": "markdown",
   "id": "dc9caba8",
   "metadata": {},
   "source": [
    "## Metablox example"
   ]
  },
  {
   "cell_type": "markdown",
   "id": "bf638573",
   "metadata": {},
   "source": [
    "### Package import"
   ]
  },
  {
   "cell_type": "code",
   "execution_count": 1,
   "id": "c13fa61c",
   "metadata": {},
   "outputs": [
    {
     "name": "stderr",
     "output_type": "stream",
     "text": [
      "\n",
      "(ipykernel_launcher.py:59261): Gtk-WARNING **: 16:37:31.140: Locale not supported by C library.\n",
      "\tUsing the fallback 'C' locale.\n"
     ]
    }
   ],
   "source": [
    "import graph_tool.all as gt\n",
    "import matplotlib.pyplot as plt\n",
    "from metablox import calculate_metadata_relevance, plot_metadata_relevance"
   ]
  },
  {
   "cell_type": "markdown",
   "id": "3a956421",
   "metadata": {},
   "source": [
    "### Helper functions"
   ]
  },
  {
   "cell_type": "code",
   "execution_count": 2,
   "id": "13211e15",
   "metadata": {},
   "outputs": [],
   "source": [
    "def extract_friendship_graph(g):\n",
    "    g = gt.GraphView(g, \n",
    "                     efilt=lambda e: g.ep.layer[e] == 2)\n",
    "    g = gt.GraphView(g, vfilt=gt.label_largest_component(g, directed=False))\n",
    "    g = gt.Graph(g, prune=True, directed=False)\n",
    "    g.set_directed(False)\n",
    "    return g"
   ]
  },
  {
   "cell_type": "markdown",
   "id": "7eae5067",
   "metadata": {},
   "source": [
    "### Data sources"
   ]
  },
  {
   "cell_type": "markdown",
   "id": "4124742d",
   "metadata": {},
   "source": [
    "The data in this notebook is taken from the [Netzschleuder](networks.skewed.de) repository; the law firm network is from\n",
    "*Lazega, Emmanuel. The collegial phenomenon: The social mechanisms of cooperation among peers in a corporate law partnership. Oxford University Press, USA, 2001.*"
   ]
  },
  {
   "cell_type": "markdown",
   "id": "8ccbcd6e",
   "metadata": {},
   "source": [
    "### How to use *metablox*"
   ]
  },
  {
   "cell_type": "markdown",
   "id": "27e04165",
   "metadata": {},
   "source": [
    "Extract the friendship network from the law firm network (by setting the edge property called 'layer' to 2):"
   ]
  },
  {
   "cell_type": "code",
   "execution_count": 3,
   "id": "70562d2f",
   "metadata": {},
   "outputs": [],
   "source": [
    "g_law = gt.collection.ns[\"law_firm\"]\n",
    "g = extract_friendship_graph(g_law)\n",
    "\n",
    "metadata = ['nodeStatus', 'nodeGender', 'nodeOffice', 'nodePractice', 'nodeLawSchool']"
   ]
  },
  {
   "cell_type": "markdown",
   "id": "08f303fa",
   "metadata": {},
   "source": [
    "For easier plotting, set the `output_format` argument to `'list'`. Here, we also set `refine_states = True`; this uses the graph_tool library to refine minimization of block states by running 10 * `iters_refine` sweeps of the MCMC with zero temperature."
   ]
  },
  {
   "cell_type": "code",
   "execution_count": null,
   "id": "580f2f50",
   "metadata": {},
   "outputs": [
    {
     "name": "stdout",
     "output_type": "stream",
     "text": [
      "Minimizing block models and nested block models.\n"
     ]
    }
   ],
   "source": [
    "data = calculate_metadata_relevance(g=g, metadata=metadata, refine_states=True, \n",
    "                                    output_format='list')"
   ]
  },
  {
   "cell_type": "markdown",
   "id": "c08407ac",
   "metadata": {},
   "source": [
    "We can then use the `plot_metadata_relevance` to plot the dimensions of metablox for each set of metadata."
   ]
  },
  {
   "cell_type": "code",
   "execution_count": null,
   "id": "45d41c2c",
   "metadata": {},
   "outputs": [],
   "source": [
    "fig, ax = plt.subplots(figsize=(6, 4))\n",
    "ax = plot_metadata_relevance(data, metadata, ax)\n",
    "ax.set_xticklabels(['Status', 'Gender', 'Office', 'Practice', 'LawSchool'])\n",
    "plt.tight_layout()\n",
    "plt.show()"
   ]
  },
  {
   "cell_type": "code",
   "execution_count": null,
   "id": "33cd0ba4",
   "metadata": {},
   "outputs": [],
   "source": []
  },
  {
   "cell_type": "code",
   "execution_count": null,
   "id": "e26453ae",
   "metadata": {},
   "outputs": [],
   "source": []
  }
 ],
 "metadata": {
  "kernelspec": {
   "display_name": "Python 3 (ipykernel)",
   "language": "python",
   "name": "python3"
  },
  "language_info": {
   "codemirror_mode": {
    "name": "ipython",
    "version": 3
   },
   "file_extension": ".py",
   "mimetype": "text/x-python",
   "name": "python",
   "nbconvert_exporter": "python",
   "pygments_lexer": "ipython3",
   "version": "3.10.4"
  }
 },
 "nbformat": 4,
 "nbformat_minor": 5
}
